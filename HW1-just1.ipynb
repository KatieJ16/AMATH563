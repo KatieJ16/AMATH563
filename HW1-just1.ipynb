{
 "cells": [
  {
   "cell_type": "code",
   "execution_count": 2,
   "metadata": {},
   "outputs": [],
   "source": [
    "import matplotlib.pyplot as plt\n",
    "import gzip\n",
    "import numpy as np\n",
    "from numpy.linalg import *\n",
    "from matplotlib import rcParams\n",
    "from sklearn import linear_model\n",
    "\n",
    "\n",
    "rcParams.update({'font.size': 18})"
   ]
  },
  {
   "cell_type": "code",
   "execution_count": 3,
   "metadata": {},
   "outputs": [],
   "source": [
    "%matplotlib inline  "
   ]
  },
  {
   "cell_type": "code",
   "execution_count": 4,
   "metadata": {},
   "outputs": [],
   "source": [
    "number = 1"
   ]
  },
  {
   "cell_type": "code",
   "execution_count": 81,
   "metadata": {},
   "outputs": [],
   "source": [
    "#functions that are used throughout \n",
    "def find_results(data, x):\n",
    "    #Takes the data and the x results of a fit \n",
    "    f = np.matmul(data, x)\n",
    "    f_max = np.zeros(len(f))\n",
    "    for i in range(len(f)):\n",
    "        if(f[i]) > 0.5:\n",
    "            f_max[i] = 1\n",
    "    return f, f_max\n",
    "\n",
    "def find_error(data, labels, x):\n",
    "    #finds the error in the results and the maximized results.\n",
    "    f, f_max = find_results(data, x)\n",
    "    f_error = np.linalg.norm(labels - f, ord=2)/np.linalg.norm(labels, ord=2)\n",
    "    f_max_error = np.linalg.norm(labels - f_max, ord=2)/np.linalg.norm(labels, ord=2)\n",
    "    return f_error, f_max\n",
    "\n",
    "def find_num_right(x, data, labels):\n",
    "    f,f_max = find_results(data, x)\n",
    "    num_right = 0\n",
    "    looking = f_max - labels\n",
    "#     print(looking)\n",
    "    for i in range(len(f)):\n",
    "#         print(looking[i])\n",
    "        if looking [i] == 0:\n",
    "            num_right += 1\n",
    "    return num_right\n",
    "\n",
    "def find_num_right_of_number(x, data, labels):\n",
    "    f,f_max = find_results(data, x)\n",
    "    num_right = 0\n",
    "#     print(looking)\n",
    "    for i in range(len(f)):\n",
    "        if labels [i] == 1:\n",
    "            if f_max[i] == 1:\n",
    "                num_right += 1\n",
    "    return num_right\n",
    "\n",
    "def count_num_zero(x):\n",
    "    #counts the number of elements that have zero for all 10\n",
    "    num_zero= 0\n",
    "    for i in range(len(x)):\n",
    "        if(x[i])==0:\n",
    "            num_zero += 1\n",
    "    return num_zero"
   ]
  },
  {
   "cell_type": "code",
   "execution_count": 4,
   "metadata": {},
   "outputs": [
    {
     "ename": "NameError",
     "evalue": "name 'x' is not defined",
     "output_type": "error",
     "traceback": [
      "\u001b[1;31m---------------------------------------------------------------------------\u001b[0m",
      "\u001b[1;31mNameError\u001b[0m                                 Traceback (most recent call last)",
      "\u001b[1;32m<ipython-input-4-10756e38bdde>\u001b[0m in \u001b[0;36m<module>\u001b[1;34m\u001b[0m\n\u001b[1;32m----> 1\u001b[1;33m \u001b[0mfind_num_right\u001b[0m\u001b[1;33m(\u001b[0m\u001b[0mx\u001b[0m\u001b[1;33m,\u001b[0m \u001b[0mdata\u001b[0m\u001b[1;33m,\u001b[0m \u001b[0mlabels\u001b[0m\u001b[1;33m)\u001b[0m\u001b[1;33m\u001b[0m\u001b[1;33m\u001b[0m\u001b[0m\n\u001b[0m",
      "\u001b[1;31mNameError\u001b[0m: name 'x' is not defined"
     ]
    }
   ],
   "source": [
    "find_num_right(x, data, labels)"
   ]
  },
  {
   "cell_type": "code",
   "execution_count": 6,
   "metadata": {},
   "outputs": [
    {
     "name": "stdout",
     "output_type": "stream",
     "text": [
      "47040000\n",
      "47040000\n",
      "47040000\n",
      "(60000, 784)\n"
     ]
    }
   ],
   "source": [
    "\n",
    "f = gzip.open('train-images-idx3-ubyte.gz','r')\n",
    "\n",
    "image_size = 28\n",
    "num_images = 60000 \n",
    "\n",
    "\n",
    "print(image_size * image_size * num_images)\n",
    "f.read(16)\n",
    "buf = f.read(image_size * image_size * num_images)\n",
    "data = np.frombuffer(buf, dtype=np.uint8).astype(np.float32)\n",
    "print(len(data))\n",
    "print(len(buf))\n",
    "data = data.reshape(num_images, image_size* image_size)\n",
    "\n",
    "print(data.shape)\n",
    "\n",
    "\n",
    "# image = np.asarray(data[3]).squeeze()\n",
    "# plt.imshow(image)\n",
    "# plt.show()"
   ]
  },
  {
   "cell_type": "code",
   "execution_count": 7,
   "metadata": {},
   "outputs": [
    {
     "data": {
      "text/plain": [
       "47045488"
      ]
     },
     "execution_count": 7,
     "metadata": {},
     "output_type": "execute_result"
    }
   ],
   "source": [
    "60007*784"
   ]
  },
  {
   "cell_type": "code",
   "execution_count": 8,
   "metadata": {},
   "outputs": [
    {
     "name": "stdout",
     "output_type": "stream",
     "text": [
      "(60000,)\n",
      "[0. 0. 0. ... 0. 0. 0.]\n"
     ]
    }
   ],
   "source": [
    "f = gzip.open('train-labels-idx1-ubyte.gz','r')\n",
    "f.read(8)\n",
    "buf = f.read(image_size * image_size * num_images)\n",
    "labels_num = np.frombuffer(buf, dtype=np.uint8).astype(np.float32)\n",
    "\n",
    "# print(labels_num[3:10])\n",
    "print(labels_num.shape)\n",
    "\n",
    "#set_up b vector right\n",
    "labels = np.zeros([num_images])\n",
    "# print(labels[1][1])\n",
    "for i in range(num_images):\n",
    "        if labels_num[i] == number:\n",
    "            index = int(number - 1)\n",
    "            labels[i] = 1\n",
    "print(labels)"
   ]
  },
  {
   "cell_type": "code",
   "execution_count": 9,
   "metadata": {},
   "outputs": [
    {
     "name": "stdout",
     "output_type": "stream",
     "text": [
      "(10000, 784)\n",
      "Counter({1.0: 1135, 2.0: 1032, 7.0: 1028, 3.0: 1010, 9.0: 1009, 4.0: 982, 0.0: 980, 8.0: 974, 6.0: 958, 5.0: 892})\n",
      "(10000,)\n",
      "Counter({0.0: 8865, 1.0: 1135})\n"
     ]
    }
   ],
   "source": [
    "#get test data\n",
    "f = gzip.open('t10k-images-idx3-ubyte.gz','r')\n",
    "\n",
    "# image_size = 28\n",
    "num_images_test = 10000 \n",
    "f.read(16)\n",
    "buf = f.read(image_size * image_size * num_images_test)\n",
    "test_data = np.frombuffer(buf, dtype=np.uint8).astype(np.float32)\n",
    "test_data = test_data.reshape(num_images_test, image_size* image_size)\n",
    "\n",
    "print(test_data.shape)\n",
    "\n",
    "f = gzip.open('t10k-labels-idx1-ubyte.gz','r')\n",
    "f.read(8)\n",
    "buf = f.read(image_size * image_size * num_images_test)\n",
    "labels_num = np.frombuffer(buf, dtype=np.uint8).astype(np.float32)\n",
    "\n",
    "# print(labels_num[3:10])\n",
    "# print(labels_num.shape)\n",
    "from collections import Counter\n",
    "print(Counter(labels_num))\n",
    "#set_up b vector right\n",
    "test_labels = np.zeros([num_images_test])\n",
    "# print(labels[1][1])\n",
    "for i in range(num_images_test):\n",
    "    if int(labels_num[i]) == number:\n",
    "            test_labels[i] = 1\n",
    "print(test_labels.shape)\n",
    "print(Counter(test_labels))"
   ]
  },
  {
   "cell_type": "code",
   "execution_count": 8,
   "metadata": {},
   "outputs": [
    {
     "ename": "NameError",
     "evalue": "name 'data' is not defined",
     "output_type": "error",
     "traceback": [
      "\u001b[1;31m---------------------------------------------------------------------------\u001b[0m",
      "\u001b[1;31mNameError\u001b[0m                                 Traceback (most recent call last)",
      "\u001b[1;32m<ipython-input-8-18c23ffad5f6>\u001b[0m in \u001b[0;36m<module>\u001b[1;34m\u001b[0m\n\u001b[1;32m----> 1\u001b[1;33m \u001b[0mtup\u001b[0m  \u001b[1;33m=\u001b[0m \u001b[0mnp\u001b[0m\u001b[1;33m.\u001b[0m\u001b[0mlinalg\u001b[0m\u001b[1;33m.\u001b[0m\u001b[0mlstsq\u001b[0m\u001b[1;33m(\u001b[0m\u001b[0mdata\u001b[0m\u001b[1;33m,\u001b[0m \u001b[0mlabels\u001b[0m\u001b[1;33m)\u001b[0m\u001b[1;33m\u001b[0m\u001b[1;33m\u001b[0m\u001b[0m\n\u001b[0m\u001b[0;32m      2\u001b[0m \u001b[0mx1\u001b[0m \u001b[1;33m=\u001b[0m \u001b[0mtup\u001b[0m\u001b[1;33m[\u001b[0m\u001b[1;36m0\u001b[0m\u001b[1;33m]\u001b[0m\u001b[1;33m\u001b[0m\u001b[1;33m\u001b[0m\u001b[0m\n\u001b[0;32m      3\u001b[0m \u001b[0mf1\u001b[0m\u001b[1;33m,\u001b[0m \u001b[0mf1_max\u001b[0m \u001b[1;33m=\u001b[0m \u001b[0mfind_results\u001b[0m\u001b[1;33m(\u001b[0m\u001b[0mdata\u001b[0m\u001b[1;33m,\u001b[0m \u001b[0mx1\u001b[0m\u001b[1;33m)\u001b[0m\u001b[1;33m\u001b[0m\u001b[1;33m\u001b[0m\u001b[0m\n\u001b[0;32m      4\u001b[0m \u001b[0merror1\u001b[0m\u001b[1;33m,\u001b[0m \u001b[0merror1_max\u001b[0m \u001b[1;33m=\u001b[0m \u001b[0mfind_error\u001b[0m\u001b[1;33m(\u001b[0m\u001b[0mdata\u001b[0m\u001b[1;33m,\u001b[0m \u001b[0mlabels\u001b[0m\u001b[1;33m,\u001b[0m \u001b[0mx1\u001b[0m\u001b[1;33m)\u001b[0m\u001b[1;33m\u001b[0m\u001b[1;33m\u001b[0m\u001b[0m\n\u001b[0;32m      5\u001b[0m \u001b[0mprint\u001b[0m\u001b[1;33m(\u001b[0m\u001b[0merror1\u001b[0m\u001b[1;33m)\u001b[0m\u001b[1;33m\u001b[0m\u001b[1;33m\u001b[0m\u001b[0m\n",
      "\u001b[1;31mNameError\u001b[0m: name 'data' is not defined"
     ]
    }
   ],
   "source": [
    "tup  = np.linalg.lstsq(data, labels)\n",
    "x1 = tup[0]\n",
    "f1, f1_max = find_results(data, x1)\n",
    "error1, error1_max = find_error(data, labels, x1)\n",
    "print(error1)\n",
    "print(error1_max)\n",
    "zero1 = count_num_zero(x1)"
   ]
  },
  {
   "cell_type": "code",
   "execution_count": 93,
   "metadata": {},
   "outputs": [],
   "source": [
    "def predict_lasso(alpha, data, labels, test  = False):\n",
    "    print(alpha)\n",
    "    clf = linear_model.Lasso(alpha=alpha)\n",
    "    clf.fit(data, labels)\n",
    "    x = clf.coef_\n",
    "    x = np.transpose(x)\n",
    "    print(x.shape)\n",
    "#     f, f_max = find_results(data, x)\n",
    "#     error, error_max = find_error(data, labels, x)\n",
    "    num_zero = count_num_zero(x)\n",
    "    num_right = find_num_right_of_number(x, data, labels)\n",
    "    if test:\n",
    "            num_right_test = find_num_right_of_number(x, test_data, test_labels)\n",
    "            return num_zero, num_right, num_right_test, x\n",
    "    \n",
    "    return num_zero, num_right, x\n",
    "\n",
    "# error, error_max, num_zero = predict_lasso(0.1, data, labels)\n",
    "\n",
    "def many_lasso(num, data, labels, lower = 0.1, upper = 1, plot=True):\n",
    "    alpha_list = []\n",
    "    right_list = []\n",
    "    num_zero_list = []\n",
    "    for alpha in np.linspace(lower, upper, num):\n",
    "        print(alpha)\n",
    "        num_zero, num_right = predict_lasso(alpha, data, labels)\n",
    "#         error_list.append(error)\n",
    "#         error_max_list.append(error_max)\n",
    "        right_list.append(num_right)\n",
    "        num_zero_list.append(num_zero)\n",
    "        alpha_list.append(alpha)\n",
    "        \n",
    "    if plot:\n",
    "        plt.plot(num_zero_list, right_list, 'ob')\n",
    "#         plt.plot(num_zero_list, error_list, 'or')\n",
    "\n",
    "    return alpha_list, right_list, num_zero_list\n",
    "\n",
    "def many_lasso_test(num, data, labels, lower = 0.1, upper = 1, plot=True):\n",
    "    alpha_list = []\n",
    "    right_list = []\n",
    "    num_zero_list = []\n",
    "    right_test_list = []\n",
    "    x_list = []\n",
    "    for alpha in np.logspace(lower, upper, num = num):\n",
    "        print(alpha)\n",
    "        num_zero, num_right, num_right_test, x = predict_lasso(alpha, data, labels, test = True)\n",
    "#         error_list.append(error)\n",
    "#         error_max_list.append(error_max)\n",
    "        right_list.append(num_right)\n",
    "        num_zero_list.append(num_zero)\n",
    "        alpha_list.append(alpha)\n",
    "        right_test_list.append(num_right_test)\n",
    "        x_list.append(x)\n",
    "        \n",
    "    try:\n",
    "        if plot:\n",
    "            plt.plot(num_zero_list, right_list, 'ob')\n",
    "            plt.plot(num_zero_list, right_test_list, 'or')\n",
    "    except:\n",
    "        print(\"Problem plotting\")\n",
    "\n",
    "    return alpha_list, right_list, num_zero_list, right_test_list, x_list\n",
    "\n",
    "# alpha_list, right_list, num_zero_list = many_lasso(25, data, labels, lower = 0.001, upper = 10)"
   ]
  },
  {
   "cell_type": "code",
   "execution_count": 13,
   "metadata": {},
   "outputs": [
    {
     "data": {
      "text/plain": [
       "array([1.00000000e-05, 2.11220877e-05, 4.46142590e-05, 9.42346293e-05,\n",
       "       1.99043211e-04, 4.20420816e-04, 8.88016535e-04, 1.87567632e-03,\n",
       "       3.96181997e-03, 8.36819090e-03, 1.76753662e-02, 3.73340636e-02,\n",
       "       7.88573367e-02, 1.66563158e-01, 3.51816164e-01, 7.43109189e-01,\n",
       "       1.56960175e+00, 3.31532658e+00, 7.00266189e+00, 1.47910839e+01])"
      ]
     },
     "execution_count": 13,
     "metadata": {},
     "output_type": "execute_result"
    }
   ],
   "source": [
    "np.logspace(-5, 1.17, num = 20)"
   ]
  },
  {
   "cell_type": "code",
   "execution_count": 94,
   "metadata": {},
   "outputs": [
    {
     "name": "stdout",
     "output_type": "stream",
     "text": [
      "1e-05\n",
      "1e-05\n"
     ]
    },
    {
     "name": "stderr",
     "output_type": "stream",
     "text": [
      "C:\\Users\\16kat\\Anaconda3\\lib\\site-packages\\sklearn\\linear_model\\coordinate_descent.py:475: ConvergenceWarning: Objective did not converge. You might want to increase the number of iterations. Duality gap: 9.3531494140625, tolerance: 0.598443329334259\n",
      "  positive)\n"
     ]
    },
    {
     "name": "stdout",
     "output_type": "stream",
     "text": [
      "(784,)\n",
      "4.8479212394231585e-05\n",
      "4.8479212394231585e-05\n",
      "(784,)\n",
      "0.00023502340343650223\n",
      "0.00023502340343650223\n",
      "(784,)\n",
      "0.0011393749492813368\n",
      "0.0011393749492813368\n",
      "(784,)\n",
      "0.005523600016287683\n",
      "0.005523600016287683\n",
      "(784,)\n",
      "0.02677797783703919\n",
      "0.02677797783703919\n",
      "(784,)\n",
      "0.1298175275049849\n",
      "0.1298175275049849\n",
      "(784,)\n",
      "0.6293451488408176\n",
      "0.6293451488408176\n",
      "(784,)\n",
      "3.051015713993329\n",
      "3.051015713993329\n",
      "(784,)\n",
      "14.791083881682072\n",
      "14.791083881682072\n",
      "(784,)\n"
     ]
    }
   ],
   "source": [
    "alpha_list, right_list, num_zero_list, right_test_list, x_list = many_lasso_test(10, data, labels, lower = -5, upper = 1.17, plot = False)"
   ]
  },
  {
   "cell_type": "code",
   "execution_count": 95,
   "metadata": {},
   "outputs": [
    {
     "data": {
      "image/png": "[encoded data removed]",
      "text/plain": [
       "<Figure size 432x288 with 1 Axes>"
      ]
     },
     "metadata": {
      "needs_background": "light"
     },
     "output_type": "display_data"
    }
   ],
   "source": [
    "x_axis = np.ones(len(num_zero_list)) *image_size*image_size - num_zero_list\n",
    "plt.plot(x_axis, np.divide(right_list, sum(labels)), 'ob', label = \"Training Data\")\n",
    "plt.plot(x_axis, np.divide(right_test_list, sum(test_labels)), 'or', label= \"Testing Data\")\n",
    "plt.xlabel(\"Number of nonzero terms\")\n",
    "plt.ylabel(\"% predicted correctly\")\n",
    "plt.legend()\n",
    "plt.title(\"Predicting occurence of \"+str(int(number))+\"s with varying number of terms\")\n",
    "plt.show()"
   ]
  },
  {
   "cell_type": "code",
   "execution_count": 21,
   "metadata": {},
   "outputs": [
    {
     "name": "stdout",
     "output_type": "stream",
     "text": [
      "0.8876333333333334\n"
     ]
    }
   ],
   "source": [
    "x_axis\n",
    "print(right_list[-1]/60000)"
   ]
  },
  {
   "cell_type": "code",
   "execution_count": 91,
   "metadata": {},
   "outputs": [
    {
     "name": "stdout",
     "output_type": "stream",
     "text": [
      "0.02677797783703919\n",
      "(784,)\n"
     ]
    }
   ],
   "source": [
    "num_zero, num_right, num_right_test, x = predict_lasso(alpha_list[5], data, labels, test = True)"
   ]
  },
  {
   "cell_type": "code",
   "execution_count": 92,
   "metadata": {},
   "outputs": [
    {
     "name": "stdout",
     "output_type": "stream",
     "text": [
      "0.95035\n",
      "0.9533\n",
      "325\n",
      "6742.0\n",
      "(60000,)\n",
      "Counter({0.0: 56173, 1.0: 3827})\n",
      "3795\n"
     ]
    }
   ],
   "source": [
    "print(num_right/60000)\n",
    "print(num_right_test/10000)\n",
    "print(image_size**2 - num_zero)\n",
    "print(sum(labels))\n",
    "\n",
    "f = np.matmul(data, x)\n",
    "print(f.shape)\n",
    "f_max = np.zeros(len(f))\n",
    "for i in range(len(f)):\n",
    "    if(f[i]> 0.5):\n",
    "        f_max[i] = 1\n",
    "print(Counter(f_max))\n",
    "num_right_of_number = find_num_right_of_number(x, data, labels)\n",
    "print(num_right_of_number)"
   ]
  },
  {
   "cell_type": "code",
   "execution_count": 36,
   "metadata": {},
   "outputs": [
    {
     "data": {
      "text/plain": [
       "Text(0.5, 0.98, 'Importance of Each pixel for predicting 1s with various number of nonzero terms')"
      ]
     },
     "execution_count": 36,
     "metadata": {},
     "output_type": "execute_result"
    },
    {
     "data": {
      "image/png": "[encoded data removed]",
      "text/plain": [
       "<Figure size 432x288 with 8 Axes>"
      ]
     },
     "metadata": {
      "needs_background": "light"
     },
     "output_type": "display_data"
    }
   ],
   "source": [
    "fig, axs = plt.subplots(2, 2,  constrained_layout=True)\n",
    "i = 3\n",
    "x = x_list[i]\n",
    "# normed = norm(x, axis = 1)\n",
    "box = x.reshape(image_size, image_size)\n",
    "# x1_norm = norm(x1_box, axis = 2)\n",
    "c = axs[0,0].pcolor(box)\n",
    "axs[0,0].set_title(\"Nonzero Terms = \"+str(image_size**2 - num_zero_list[i]))\n",
    "fig.colorbar(c, ax=axs[0,0])\n",
    "\n",
    "i = 6\n",
    "x = x_list[i]\n",
    "# normed = norm(x, axis = 1)\n",
    "box = x.reshape(image_size, image_size)\n",
    "# x1_norm = norm(x1_box, axis = 2)\n",
    "c = axs[0,1].pcolor(box)\n",
    "axs[0,1].set_title(\"Nonzero Terms = \"+str(image_size**2 - num_zero_list[i]))\n",
    "fig.colorbar(c, ax=axs[0,1])\n",
    "\n",
    "i = 8\n",
    "x = x_list[i]\n",
    "# normed = norm(x, axis = 1)\n",
    "box = x.reshape(image_size, image_size)\n",
    "# x1_norm = norm(x1_box, axis = 2)\n",
    "c = axs[1,0].pcolor(box)\n",
    "axs[1,0].set_title(\"Nonzero Terms = \"+str(image_size**2 - num_zero_list[i]))\n",
    "fig.colorbar(c, ax=axs[1,0])\n",
    "\n",
    "i = -1\n",
    "x = x_list[i]\n",
    "# normed = norm(x, axis = 1)\n",
    "box = x.reshape(image_size, image_size)\n",
    "# x1_norm = norm(x1_box, axis = 2)\n",
    "c = axs[1,1].pcolor(box)\n",
    "axs[1,1].set_title(\"Nonzero Terms = \"+str(image_size**2 - num_zero_list[i]))\n",
    "fig.colorbar(c, ax=axs[1,1])\n",
    "\n",
    "plt.suptitle(\"Importance of Each pixel for predicting \"+str(int(number))+\"s with various number of nonzero terms\")\n",
    "# plt.tight_layout()\n"
   ]
  },
  {
   "cell_type": "code",
   "execution_count": 41,
   "metadata": {},
   "outputs": [
    {
     "name": "stdout",
     "output_type": "stream",
     "text": [
      "[350   0 517 518 519 520 521 522 523 524]\n"
     ]
    }
   ],
   "source": [
    "#Finding most informative pixels \n",
    "i = -1\n",
    "x = x_list[i]\n",
    "# normed = norm(x, axis = 1)\n",
    "box = x.reshape(image_size, image_size)\n",
    "\n",
    "sort  = (-x).argsort()[:10]\n",
    "print(sort)\n",
    "\n",
    "# i = 18\n",
    "# x = x_list[i]\n",
    "# normed = norm(x, axis = 1)\n",
    "# box = normed.reshape(image_size, image_size)\n",
    "\n",
    "# sort  = (-normed).argsort()[:10]\n",
    "# print(sort)\n",
    "\n",
    "# i = 17\n",
    "# x = x_list[i]\n",
    "# normed = norm(x, axis = 1)\n",
    "# box = normed.reshape(image_size, image_size)\n",
    "\n",
    "# sort  = (-normed).argsort()[:10]\n",
    "# print(sort)\n",
    "\n",
    "# print(int(sort[0]/image_size), \", \", sort[0]%image_size)\n",
    "\n",
    "# np.argmax(box)\n",
    "# print(np.argmax(normed))"
   ]
  },
  {
   "cell_type": "code",
   "execution_count": 116,
   "metadata": {},
   "outputs": [],
   "source": [
    "in_top = np.zeros([image_size*image_size])\n",
    "\n",
    "for i in range(20):\n",
    "\n",
    "    x = x_list[i]\n",
    "    normed = norm(x, axis = 1)\n",
    "    sort  = (-normed).argsort()[:11]\n",
    "    for j in sort:\n",
    "        in_top[j] += 1 / num_zero_list[i]\n",
    "# box = normed.reshape(image_size, image_size)"
   ]
  },
  {
   "cell_type": "code",
   "execution_count": 117,
   "metadata": {},
   "outputs": [
    {
     "name": "stdout",
     "output_type": "stream",
     "text": [
      "[350 543 514 378 489 358 409 434 376 405]\n",
      "0.028757717616775025\n",
      "0.016820245484103626\n"
     ]
    }
   ],
   "source": [
    "print((-in_top).argsort()[:10])\n",
    "print(in_top[350])\n",
    "print(in_top[409])\n",
    "# print(sort)"
   ]
  },
  {
   "cell_type": "code",
   "execution_count": 121,
   "metadata": {},
   "outputs": [
    {
     "name": "stdout",
     "output_type": "stream",
     "text": [
      "350\n",
      "543\n",
      "514\n",
      "378\n",
      "489\n",
      "358\n",
      "409\n",
      "434\n",
      "376\n",
      "405\n"
     ]
    },
    {
     "data": {
      "text/plain": [
       "<matplotlib.colorbar.Colorbar at 0x1b6dc17b688>"
      ]
     },
     "execution_count": 121,
     "metadata": {},
     "output_type": "execute_result"
    },
    {
     "data": {
      "image/png": "[encoded data removed]",
      "text/plain": [
       "<Figure size 432x288 with 2 Axes>"
      ]
     },
     "metadata": {
      "needs_background": "light"
     },
     "output_type": "display_data"
    }
   ],
   "source": [
    "in_top_color = np.zeros([image_size*image_size])\n",
    "for i in (-in_top).argsort()[:10]:\n",
    "    print(i)\n",
    "    in_top_color[i] = 1\n",
    "    \n",
    "box = in_top_color.reshape(image_size, image_size)\n",
    "plt.pcolor(box)\n",
    "# axs[1,1].set_title(\"Nonzero Terms = \"+str(image_size**2 - num_zero_list[i]))\n",
    "plt.colorbar()"
   ]
  },
  {
   "cell_type": "code",
   "execution_count": null,
   "metadata": {},
   "outputs": [],
   "source": []
  },
  {
   "cell_type": "code",
   "execution_count": 60,
   "metadata": {},
   "outputs": [
    {
     "name": "stdout",
     "output_type": "stream",
     "text": [
      "0.1\n",
      "0.1\n",
      "0.2\n",
      "0.2\n",
      "0.30000000000000004\n",
      "0.30000000000000004\n",
      "0.4\n",
      "0.4\n",
      "0.5\n",
      "0.5\n",
      "0.6\n",
      "0.6\n",
      "0.7000000000000001\n",
      "0.7000000000000001\n",
      "0.8\n",
      "0.8\n",
      "0.9\n",
      "0.9\n",
      "1.0\n",
      "1.0\n"
     ]
    },
    {
     "data": {
      "image/png": "[encoded data removed]",
      "text/plain": [
       "<Figure size 432x288 with 1 Axes>"
      ]
     },
     "metadata": {
      "needs_background": "light"
     },
     "output_type": "display_data"
    }
   ],
   "source": [
    "alpha_list_less, right_list_less, num_zero_list_less = many_lasso(10, data, labels)"
   ]
  },
  {
   "cell_type": "code",
   "execution_count": null,
   "metadata": {},
   "outputs": [],
   "source": [
    "plt.plot()"
   ]
  },
  {
   "cell_type": "code",
   "execution_count": 54,
   "metadata": {},
   "outputs": [
    {
     "data": {
      "text/plain": [
       "<matplotlib.collections.PolyCollection at 0x21c0210f508>"
      ]
     },
     "execution_count": 54,
     "metadata": {},
     "output_type": "execute_result"
    },
    {
     "data": {
      "image/png": "[encoded data removed]",
      "text/plain": [
       "<Figure size 432x288 with 1 Axes>"
      ]
     },
     "metadata": {
      "needs_background": "light"
     },
     "output_type": "display_data"
    }
   ],
   "source": [
    "clf = linear_model.Lasso(alpha=10)\n",
    "clf.fit(data, labels)\n",
    "x = clf.coef_\n",
    "x = np.transpose(x)\n",
    "f, f_max = find_results(data, x)\n",
    "error, error_max = find_error(data, labels, x)\n",
    "num_zero = count_num_zero(x)\n",
    "\n",
    "normed = norm(x, axis = 1)\n",
    "box = normed.reshape(image_size, image_size)\n",
    "# x1_norm = norm(x1_box, axis = 2)\n",
    "plt.pcolor(box)"
   ]
  },
  {
   "cell_type": "code",
   "execution_count": 55,
   "metadata": {},
   "outputs": [
    {
     "name": "stdout",
     "output_type": "stream",
     "text": [
      "0.26535\n"
     ]
    }
   ],
   "source": [
    "print(find_num_right(x, data, labels)/len(data))\n",
    "# print(f_max[0:10])\n",
    "# print(labels[0:10])"
   ]
  },
  {
   "cell_type": "code",
   "execution_count": 20,
   "metadata": {},
   "outputs": [
    {
     "name": "stdout",
     "output_type": "stream",
     "text": [
      "0.8283162477830476\n",
      "1.3073113632486302\n"
     ]
    }
   ],
   "source": [
    "# clf = linear_model.Lasso(alpha=0.8)\n",
    "# clf.fit(data, labels)\n",
    "x4 = clf.coef_\n",
    "f4 = clf.predict(data)\n",
    "error4 = np.linalg.norm(labels - f4, ord=2 )/np.linalg.norm(labels, ord=2)\n",
    "print(error4)\n",
    "# x4 = clf.coef_\n",
    "f4 = np.matmul(data, np.transpose(x4))\n",
    "error4 = np.linalg.norm(labels - f4, ord=2 )/np.linalg.norm(labels, ord=2)\n",
    "print(error4)"
   ]
  },
  {
   "cell_type": "code",
   "execution_count": 61,
   "metadata": {},
   "outputs": [
    {
     "name": "stderr",
     "output_type": "stream",
     "text": [
      "C:\\Users\\16kat\\Anaconda3\\lib\\site-packages\\ipykernel_launcher.py:1: FutureWarning: `rcond` parameter will change to the default of machine precision times ``max(M, N)`` where M and N are the input matrix dimensions.\n",
      "To use the future default and silence this warning we advise to pass `rcond=None`, to keep using the old, explicitly pass `rcond=-1`.\n",
      "  \"\"\"Entry point for launching an IPython kernel.\n"
     ]
    },
    {
     "name": "stdout",
     "output_type": "stream",
     "text": [
      "0.9812089574670794\n",
      "14\n",
      "51117\n"
     ]
    }
   ],
   "source": [
    "tup  = np.linalg.lstsq(data, labels)\n",
    "x1 = tup[0]\n",
    "f1, f1_max = find_results(data, x1)\n",
    "error1, error1_max = find_error(data, labels, x)\n",
    "print(error1)\n",
    "num_zero = count_num_zero(x1)\n",
    "num_right = find_num_right(x1, data, labels)\n",
    "print(num_zero)\n",
    "print(num_right)\n",
    "    "
   ]
  },
  {
   "cell_type": "code",
   "execution_count": 62,
   "metadata": {},
   "outputs": [
    {
     "name": "stdout",
     "output_type": "stream",
     "text": [
      "0.85195\n"
     ]
    }
   ],
   "source": [
    "print(num_right/len(data))"
   ]
  },
  {
   "cell_type": "code",
   "execution_count": 149,
   "metadata": {},
   "outputs": [
    {
     "name": "stdout",
     "output_type": "stream",
     "text": [
      "(10, 784)\n"
     ]
    },
    {
     "data": {
      "text/plain": [
       "<matplotlib.collections.PolyCollection at 0x2ad4f99e908>"
      ]
     },
     "execution_count": 149,
     "metadata": {},
     "output_type": "execute_result"
    },
    {
     "data": {
      "image/png": "[encoded data removed]",
      "text/plain": [
       "<Figure size 864x1296 with 1 Axes>"
      ]
     },
     "metadata": {
      "needs_background": "light"
     },
     "output_type": "display_data"
    }
   ],
   "source": [
    "print(x4.shape)\n",
    "x4_trans = np.transpose(x4)\n",
    "# print(norm(x4, axis = 0))\n",
    "normed = norm(x4_trans, axis = 1)\n",
    "box = normed.reshape(image_size, image_size)\n",
    "# x1_norm = norm(x1_box, axis = 2)\n",
    "plt.pcolor(box)\n"
   ]
  },
  {
   "cell_type": "code",
   "execution_count": 222,
   "metadata": {},
   "outputs": [
    {
     "name": "stdout",
     "output_type": "stream",
     "text": [
      "0.7811641636547713\n"
     ]
    }
   ],
   "source": [
    "clf = linear_model.Lasso(alpha=0.001)\n",
    "clf.fit(data, labels)\n",
    "x5 = clf.coef_\n",
    "f5 = clf.predict(data)\n",
    "error5 = np.linalg.norm(labels - f5, ord=2 )/np.linalg.norm(labels, ord=2)\n",
    "print(error5)"
   ]
  },
  {
   "cell_type": "code",
   "execution_count": 179,
   "metadata": {},
   "outputs": [
    {
     "name": "stdout",
     "output_type": "stream",
     "text": [
      "(60000, 784)\n"
     ]
    }
   ],
   "source": [
    "print(data.shape)"
   ]
  },
  {
   "cell_type": "code",
   "execution_count": 223,
   "metadata": {},
   "outputs": [
    {
     "name": "stdout",
     "output_type": "stream",
     "text": [
      "(10, 784)\n"
     ]
    },
    {
     "data": {
      "text/plain": [
       "<matplotlib.colorbar.Colorbar at 0x2ad528fb988>"
      ]
     },
     "execution_count": 223,
     "metadata": {},
     "output_type": "execute_result"
    },
    {
     "data": {
      "image/png": "[encoded data removed]",
      "text/plain": [
       "<Figure size 864x1296 with 2 Axes>"
      ]
     },
     "metadata": {
      "needs_background": "light"
     },
     "output_type": "display_data"
    }
   ],
   "source": [
    "print(x5.shape)\n",
    "x5_trans = np.transpose(x5)\n",
    "# print(norm(x4, axis = 0))\n",
    "normed = norm(x5_trans, axis = 1)\n",
    "box = normed.reshape(image_size, image_size)\n",
    "# x1_norm = norm(x1_box, axis = 2)\n",
    "plt.pcolor(box)\n",
    "plt.colorbar()"
   ]
  },
  {
   "cell_type": "code",
   "execution_count": 231,
   "metadata": {},
   "outputs": [
    {
     "name": "stdout",
     "output_type": "stream",
     "text": [
      "784\n",
      "116\n"
     ]
    }
   ],
   "source": [
    "def count_num_zero(x):\n",
    "    print(len(x))\n",
    "    num_zero= 0\n",
    "    for i in range(len(x)):\n",
    "        if(max(x[i]))==0:\n",
    "            num_zero += 1\n",
    "    return num_zero\n",
    "\n",
    "print(count_num_zero(x5_trans))"
   ]
  },
  {
   "cell_type": "code",
   "execution_count": 229,
   "metadata": {},
   "outputs": [
    {
     "name": "stdout",
     "output_type": "stream",
     "text": [
      "[0. 0. 0. 0. 0. 0. 0. 0. 0. 0.]\n"
     ]
    }
   ],
   "source": [
    "print(x5_trans[0])"
   ]
  },
  {
   "cell_type": "code",
   "execution_count": 114,
   "metadata": {},
   "outputs": [
    {
     "name": "stderr",
     "output_type": "stream",
     "text": [
      "C:\\Users\\16kat\\Anaconda3\\lib\\site-packages\\sklearn\\linear_model\\ridge.py:147: LinAlgWarning: Ill-conditioned matrix (rcond=2.03801e-11): result may not be accurate.\n",
      "  overwrite_a=True).T\n"
     ]
    }
   ],
   "source": [
    "#robust and ridge too\n",
    "ridge = linear_model.Ridge(alpha=1.0).fit(data,labels)\n",
    "x6 = ridge.coef_\n",
    "f6 = ridge.predict(data)\n",
    "error6 = np.linalg.norm(labels-f6,ord=2)/np.linalg.norm(labels,ord=2)"
   ]
  },
  {
   "cell_type": "code",
   "execution_count": 150,
   "metadata": {},
   "outputs": [
    {
     "data": {
      "text/plain": [
       "<matplotlib.collections.PolyCollection at 0x2ad559cff88>"
      ]
     },
     "execution_count": 150,
     "metadata": {},
     "output_type": "execute_result"
    },
    {
     "data": {
      "image/png": "[encoded data removed]",
      "text/plain": [
       "<Figure size 864x1296 with 6 Axes>"
      ]
     },
     "metadata": {
      "needs_background": "light"
     },
     "output_type": "display_data"
    }
   ],
   "source": [
    "fig, ax = plt.subplots(2, 3)\n",
    "\n",
    "x1_box = x1.reshape(image_size, image_size,10)\n",
    "x1_norm = norm(x1_box, axis = 2)\n",
    "ax[0, 0].pcolor(x1_norm)\n",
    "# plt.colorbar()\n",
    "\n",
    "x2_box = x2.reshape(image_size, image_size,10)\n",
    "x2_norm = norm(x2_box, axis = 2)\n",
    "ax[0, 1].pcolor(x2_norm)\n",
    "# ax[0, 1].colorbar()\n",
    "\n",
    "x3_box = x3.reshape(10, image_size, image_size)\n",
    "x3_norm = norm(x3_box, axis = 0)\n",
    "ax[0, 2].pcolor(x3_norm)\n",
    "# ax[0, 2].colorbar()\n",
    "\n",
    "x4_box = x4.reshape(10, image_size, image_size)\n",
    "x4_norm = norm(x4_box, axis = 0)\n",
    "ax[1, 0].pcolor(x4_norm)\n",
    "# ax[1, 0].colorbar()\n",
    "\n",
    "x6_box = x6.reshape(image_size, image_size,10)\n",
    "x6_norm = norm(x6_box, axis = 2)\n",
    "ax[1, 1].pcolor(x6_norm)\n",
    "# ax[1, 1].colorbar()"
   ]
  }
 ],
 "metadata": {
  "kernelspec": {
   "display_name": "Python 3",
   "language": "python",
   "name": "python3"
  },
  "language_info": {
   "codemirror_mode": {
    "name": "ipython",
    "version": 3
   },
   "file_extension": ".py",
   "mimetype": "text/x-python",
   "name": "python",
   "nbconvert_exporter": "python",
   "pygments_lexer": "ipython3",
   "version": "3.7.4"
  }
 },
 "nbformat": 4,
 "nbformat_minor": 2
}
