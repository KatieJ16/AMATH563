{
 "cells": [
  {
   "cell_type": "code",
   "execution_count": 16,
   "metadata": {},
   "outputs": [],
   "source": [
    "import matplotlib.pyplot as plt\n",
    "import gzip\n",
    "import numpy as np\n",
    "from numpy.linalg import *\n",
    "from matplotlib import rcParams\n",
    "from sklearn import linear_model\n",
    "\n",
    "\n",
    "rcParams.update({'font.size': 18})"
   ]
  },
  {
   "cell_type": "code",
   "execution_count": 17,
   "metadata": {},
   "outputs": [],
   "source": [
    "%matplotlib inline  "
   ]
  },
  {
   "cell_type": "code",
   "execution_count": 18,
   "metadata": {},
   "outputs": [],
   "source": [
    "#pick number to look at\n",
    "number = 2"
   ]
  },
  {
   "cell_type": "code",
   "execution_count": 4,
   "metadata": {},
   "outputs": [],
   "source": [
    "#functions that are used throughout \n",
    "def find_results(data, x):\n",
    "    #Takes the data and the x results of a fit \n",
    "    f = np.matmul(data, x)\n",
    "    f_max = np.zeros(len(f))\n",
    "    for i in range(len(f)):\n",
    "        if(f[i]) > 0.5:\n",
    "            f_max[i] = 1\n",
    "    return f, f_max\n",
    "\n",
    "def find_error(data, labels, x):\n",
    "    #finds the error in the results and the maximized results.\n",
    "    f, f_max = find_results(data, x)\n",
    "    f_error = np.linalg.norm(labels - f, ord=2)/np.linalg.norm(labels, ord=2)\n",
    "    f_max_error = np.linalg.norm(labels - f_max, ord=2)/np.linalg.norm(labels, ord=2)\n",
    "    return f_error, f_max\n",
    "\n",
    "def find_num_right(x, data, labels):\n",
    "    f,f_max = find_results(data, x)\n",
    "    num_right = 0\n",
    "    looking = f_max - labels\n",
    "#     print(looking)\n",
    "    for i in range(len(f)):\n",
    "#         print(looking[i])\n",
    "        if looking [i] == 0:\n",
    "            num_right += 1\n",
    "    return num_right\n",
    "\n",
    "\n",
    "def count_num_zero(x):\n",
    "    #counts the number of elements that have zero for all 10\n",
    "    num_zero= 0\n",
    "    for i in range(len(x)):\n",
    "        if(x[i])==0:\n",
    "            num_zero += 1\n",
    "    return num_zero"
   ]
  },
  {
   "cell_type": "code",
   "execution_count": 5,
   "metadata": {},
   "outputs": [
    {
     "name": "stdout",
     "output_type": "stream",
     "text": [
      "47040000\n",
      "47040000\n",
      "47040000\n",
      "(60000, 784)\n"
     ]
    }
   ],
   "source": [
    "\n",
    "#open files\n",
    "f = gzip.open('train-images-idx3-ubyte.gz','r')\n",
    "\n",
    "image_size = 28\n",
    "num_images = 60000 \n",
    "\n",
    "\n",
    "print(image_size * image_size * num_images)\n",
    "f.read(16)\n",
    "buf = f.read(image_size * image_size * num_images)\n",
    "data = np.frombuffer(buf, dtype=np.uint8).astype(np.float32)\n",
    "print(len(data))\n",
    "print(len(buf))\n",
    "data = data.reshape(num_images, image_size* image_size)\n",
    "\n",
    "print(data.shape)\n"
   ]
  },
  {
   "cell_type": "code",
   "execution_count": 7,
   "metadata": {},
   "outputs": [
    {
     "name": "stdout",
     "output_type": "stream",
     "text": [
      "(60000,)\n",
      "[0. 0. 0. ... 0. 0. 0.]\n"
     ]
    }
   ],
   "source": [
    "f = gzip.open('train-labels-idx1-ubyte.gz','r')\n",
    "f.read(8)\n",
    "buf = f.read(image_size * image_size * num_images)\n",
    "labels_num = np.frombuffer(buf, dtype=np.uint8).astype(np.float32)\n",
    "\n",
    "# print(labels_num[3:10])\n",
    "print(labels_num.shape)\n",
    "\n",
    "#set_up b vector right\n",
    "labels = np.zeros([num_images])\n",
    "# print(labels[1][1])\n",
    "for i in range(num_images):\n",
    "        if labels_num[i] == number:\n",
    "            index = int(number - 1)\n",
    "            labels[i] = 1\n",
    "print(labels)"
   ]
  },
  {
   "cell_type": "code",
   "execution_count": 8,
   "metadata": {},
   "outputs": [
    {
     "name": "stdout",
     "output_type": "stream",
     "text": [
      "(10000, 784)\n",
      "Counter({1.0: 1135, 2.0: 1032, 7.0: 1028, 3.0: 1010, 9.0: 1009, 4.0: 982, 0.0: 980, 8.0: 974, 6.0: 958, 5.0: 892})\n",
      "(10000,)\n",
      "Counter({0.0: 8968, 1.0: 1032})\n"
     ]
    }
   ],
   "source": [
    "#get test data\n",
    "f = gzip.open('t10k-images-idx3-ubyte.gz','r')\n",
    "\n",
    "# image_size = 28\n",
    "num_images_test = 10000 \n",
    "f.read(16)\n",
    "buf = f.read(image_size * image_size * num_images_test)\n",
    "test_data = np.frombuffer(buf, dtype=np.uint8).astype(np.float32)\n",
    "test_data = test_data.reshape(num_images_test, image_size* image_size)\n",
    "\n",
    "print(test_data.shape)\n",
    "\n",
    "f = gzip.open('t10k-labels-idx1-ubyte.gz','r')\n",
    "f.read(8)\n",
    "buf = f.read(image_size * image_size * num_images_test)\n",
    "labels_num = np.frombuffer(buf, dtype=np.uint8).astype(np.float32)\n",
    "\n",
    "# print(labels_num[3:10])\n",
    "# print(labels_num.shape)\n",
    "from collections import Counter\n",
    "print(Counter(labels_num))\n",
    "#set_up b vector right\n",
    "test_labels = np.zeros([num_images_test])\n",
    "# print(labels[1][1])\n",
    "for i in range(num_images_test):\n",
    "    if int(labels_num[i]) == number:\n",
    "            test_labels[i] = 1\n",
    "print(test_labels.shape)\n",
    "print(Counter(test_labels))"
   ]
  },
  {
   "cell_type": "code",
   "execution_count": 9,
   "metadata": {},
   "outputs": [],
   "source": [
    "def predict_lasso(alpha, data, labels, test  = False):\n",
    "    print(alpha)\n",
    "    clf = linear_model.Lasso(alpha=alpha)\n",
    "    clf.fit(data, labels)\n",
    "    x = clf.coef_\n",
    "    x = np.transpose(x)\n",
    "    print(x.shape)\n",
    "    num_zero = count_num_zero(x)\n",
    "    num_right = find_num_right(x, data, labels)\n",
    "    if test:\n",
    "            num_right_test = find_num_right(x, test_data, test_labels)\n",
    "            return num_zero, num_right, num_right_test, x\n",
    "    \n",
    "    return num_zero, num_right, x\n",
    "\n",
    "\n",
    "def many_lasso(num, data, labels, lower = 0.1, upper = 1, plot=True):\n",
    "    alpha_list = []\n",
    "    right_list = []\n",
    "    num_zero_list = []\n",
    "    for alpha in np.linspace(lower, upper, num):\n",
    "        print(alpha)\n",
    "        num_zero, num_right = predict_lasso(alpha, data, labels)\n",
    "        right_list.append(num_right)\n",
    "        num_zero_list.append(num_zero)\n",
    "        alpha_list.append(alpha)\n",
    "        \n",
    "    if plot:\n",
    "        plt.plot(num_zero_list, right_list, 'ob')\n",
    "#         plt.plot(num_zero_list, error_list, 'or')\n",
    "\n",
    "    return alpha_list, right_list, num_zero_list\n",
    "\n",
    "def many_lasso_test(num, data, labels, lower = 0.1, upper = 1, plot=True):\n",
    "    alpha_list = []\n",
    "    right_list = []\n",
    "    num_zero_list = []\n",
    "    right_test_list = []\n",
    "    x_list = []\n",
    "    for alpha in np.logspace(lower, upper, num = num):\n",
    "        print(alpha)\n",
    "        num_zero, num_right, num_right_test, x = predict_lasso(alpha, data, labels, test = True)\n",
    "        right_list.append(num_right)\n",
    "        num_zero_list.append(num_zero)\n",
    "        alpha_list.append(alpha)\n",
    "        right_test_list.append(num_right_test)\n",
    "        x_list.append(x)\n",
    "        \n",
    "    try:\n",
    "        if plot:\n",
    "            plt.plot(num_zero_list, right_list, 'ob')\n",
    "            plt.plot(num_zero_list, right_test_list, 'or')\n",
    "    except:\n",
    "        print(\"Problem plotting\")\n",
    "\n",
    "    return alpha_list, right_list, num_zero_list, right_test_list, x_list"
   ]
  },
  {
   "cell_type": "code",
   "execution_count": 10,
   "metadata": {},
   "outputs": [
    {
     "data": {
      "text/plain": [
       "array([1.00000000e-05, 2.11220877e-05, 4.46142590e-05, 9.42346293e-05,\n",
       "       1.99043211e-04, 4.20420816e-04, 8.88016535e-04, 1.87567632e-03,\n",
       "       3.96181997e-03, 8.36819090e-03, 1.76753662e-02, 3.73340636e-02,\n",
       "       7.88573367e-02, 1.66563158e-01, 3.51816164e-01, 7.43109189e-01,\n",
       "       1.56960175e+00, 3.31532658e+00, 7.00266189e+00, 1.47910839e+01])"
      ]
     },
     "execution_count": 10,
     "metadata": {},
     "output_type": "execute_result"
    }
   ],
   "source": [
    "np.logspace(-5, 1.17, num = 20)"
   ]
  },
  {
   "cell_type": "code",
   "execution_count": 11,
   "metadata": {},
   "outputs": [
    {
     "name": "stdout",
     "output_type": "stream",
     "text": [
      "1e-05\n",
      "1e-05\n"
     ]
    },
    {
     "name": "stderr",
     "output_type": "stream",
     "text": [
      "C:\\Users\\16kat\\Anaconda3\\lib\\site-packages\\sklearn\\linear_model\\coordinate_descent.py:475: ConvergenceWarning: Objective did not converge. You might want to increase the number of iterations. Duality gap: 22.3751220703125, tolerance: 0.5366368889808655\n",
      "  positive)\n"
     ]
    },
    {
     "name": "stdout",
     "output_type": "stream",
     "text": [
      "(784,)\n",
      "4.8479212394231585e-05\n",
      "4.8479212394231585e-05\n",
      "(784,)\n",
      "0.00023502340343650223\n",
      "0.00023502340343650223\n",
      "(784,)\n",
      "0.0011393749492813368\n",
      "0.0011393749492813368\n",
      "(784,)\n",
      "0.005523600016287683\n",
      "0.005523600016287683\n",
      "(784,)\n",
      "0.02677797783703919\n",
      "0.02677797783703919\n",
      "(784,)\n",
      "0.1298175275049849\n",
      "0.1298175275049849\n",
      "(784,)\n",
      "0.6293451488408176\n",
      "0.6293451488408176\n",
      "(784,)\n",
      "3.051015713993329\n",
      "3.051015713993329\n",
      "(784,)\n",
      "14.791083881682072\n",
      "14.791083881682072\n",
      "(784,)\n"
     ]
    }
   ],
   "source": [
    "alpha_list, right_list, num_zero_list, right_test_list, x_list = many_lasso_test(10, data, labels, lower = -5, upper = 1.17, plot = False)"
   ]
  },
  {
   "cell_type": "code",
   "execution_count": 19,
   "metadata": {},
   "outputs": [
    {
     "data": {
      "image/png": "[encoded data removed]",
      "text/plain": [
       "<Figure size 432x288 with 1 Axes>"
      ]
     },
     "metadata": {
      "needs_background": "light"
     },
     "output_type": "display_data"
    }
   ],
   "source": [
    "x_axis = np.ones(len(num_zero_list)) *image_size*image_size - num_zero_list\n",
    "plt.plot(x_axis, np.divide(right_list, sum(labels)), 'ob', label = \"Training Data\")\n",
    "plt.plot(x_axis, np.divide(right_test_list, sum(test_labels)), 'or', label= \"Testing Data\")\n",
    "plt.xlabel(\"Number of nonzero terms\")\n",
    "plt.ylabel(\"% predicted correctly\")\n",
    "plt.legend()\n",
    "plt.title(\"Predicting occurence of \"+str(int(number))+\"s with varying number of terms\")\n",
    "plt.show()"
   ]
  },
  {
   "cell_type": "code",
   "execution_count": 13,
   "metadata": {},
   "outputs": [
    {
     "name": "stdout",
     "output_type": "stream",
     "text": [
      "0.9007\n"
     ]
    }
   ],
   "source": [
    "x_axis\n",
    "print(right_list[-1]/60000)"
   ]
  },
  {
   "cell_type": "code",
   "execution_count": 20,
   "metadata": {},
   "outputs": [
    {
     "name": "stdout",
     "output_type": "stream",
     "text": [
      "0.02677797783703919\n",
      "(784,)\n"
     ]
    }
   ],
   "source": [
    "num_zero, num_right, num_right_test, x = predict_lasso(alpha_list[5], data, labels, test = True)"
   ]
  },
  {
   "cell_type": "code",
   "execution_count": 21,
   "metadata": {},
   "outputs": [
    {
     "name": "stdout",
     "output_type": "stream",
     "text": [
      "0.95525\n"
     ]
    }
   ],
   "source": [
    "print(num_right / 60000)"
   ]
  },
  {
   "cell_type": "code",
   "execution_count": null,
   "metadata": {},
   "outputs": [],
   "source": [
    "#plotting multiple figures\n",
    "\n",
    "fig, axs = plt.subplots(2, 2,  constrained_layout=True)\n",
    "i = 2\n",
    "x = x_list[i]\n",
    "# normed = norm(x, axis = 1)\n",
    "box = x.reshape(image_size, image_size)\n",
    "# x1_norm = norm(x1_box, axis = 2)\n",
    "c = axs[0,0].pcolor(box)\n",
    "axs[0,0].set_title(\"Nonzero Terms = \"+str(image_size**2 - num_zero_list[i]))\n",
    "fig.colorbar(c, ax=axs[0,0])\n",
    "\n",
    "i = 6\n",
    "x = x_list[i]\n",
    "# normed = norm(x, axis = 1)\n",
    "box = x.reshape(image_size, image_size)\n",
    "# x1_norm = norm(x1_box, axis = 2)\n",
    "c = axs[0,1].pcolor(box)\n",
    "axs[0,1].set_title(\"Nonzero Terms = \"+str(image_size**2 - num_zero_list[i]))\n",
    "fig.colorbar(c, ax=axs[0,1])\n",
    "\n",
    "i = 7\n",
    "x = x_list[i]\n",
    "# normed = norm(x, axis = 1)\n",
    "box = x.reshape(image_size, image_size)\n",
    "# x1_norm = norm(x1_box, axis = 2)\n",
    "c = axs[1,0].pcolor(box)\n",
    "axs[1,0].set_title(\"Nonzero Terms = \"+str(image_size**2 - num_zero_list[i]))\n",
    "fig.colorbar(c, ax=axs[1,0])\n",
    "\n",
    "i = -2\n",
    "x = x_list[i]\n",
    "# normed = norm(x, axis = 1)\n",
    "box = x.reshape(image_size, image_size)\n",
    "# x1_norm = norm(x1_box, axis = 2)\n",
    "c = axs[1,1].pcolor(box)\n",
    "axs[1,1].set_title(\"Nonzero Terms = \"+str(image_size**2 - num_zero_list[i]))\n",
    "fig.colorbar(c, ax=axs[1,1])\n",
    "\n",
    "plt.suptitle(\"Importance of Each pixel for predicting \"+str(int(number))+\"s with various number of nonzero terms\")\n",
    "# plt.tight_layout()\n"
   ]
  }
 ],
 "metadata": {
  "kernelspec": {
   "display_name": "Python 3",
   "language": "python",
   "name": "python3"
  },
  "language_info": {
   "codemirror_mode": {
    "name": "ipython",
    "version": 3
   },
   "file_extension": ".py",
   "mimetype": "text/x-python",
   "name": "python",
   "nbconvert_exporter": "python",
   "pygments_lexer": "ipython3",
   "version": "3.7.4"
  }
 },
 "nbformat": 4,
 "nbformat_minor": 2
}
