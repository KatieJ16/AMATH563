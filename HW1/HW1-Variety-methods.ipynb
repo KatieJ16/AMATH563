{
 "cells": [
  {
   "cell_type": "code",
   "execution_count": 1,
   "metadata": {},
   "outputs": [],
   "source": [
    "import matplotlib.pyplot as plt\n",
    "import gzip\n",
    "import numpy as np\n",
    "from numpy.linalg import *\n",
    "from matplotlib import rcParams\n",
    "from sklearn import linear_model\n",
    "import random\n",
    "\n",
    "# import sklearn\n",
    "\n",
    "# rcParams.update({'font.size': 18})"
   ]
  },
  {
   "cell_type": "code",
   "execution_count": 2,
   "metadata": {},
   "outputs": [],
   "source": [
    "%matplotlib inline  "
   ]
  },
  {
   "cell_type": "code",
   "execution_count": 3,
   "metadata": {},
   "outputs": [],
   "source": [
    "#functions that are used throughout \n",
    "def find_results(data, x):\n",
    "    #Takes the data and the x results of a fit and finds the predicted results \n",
    "    # along with the predicted results maximized by each column\n",
    "    f = np.matmul(data, x)\n",
    "    f_max = np.zeros(f.shape)\n",
    "    for i in range(len(data)):\n",
    "        f_max[i, np.argmax(f[i])] = 1\n",
    "    return f, f_max\n",
    "\n",
    "def find_error(data, labels, x):\n",
    "    #finds the error in the results and the maximized results.\n",
    "    f, f_max = find_results(data, x)\n",
    "    f_error = np.linalg.norm(labels - f, ord=2)/np.linalg.norm(labels, ord=2)\n",
    "    f_max_error = np.linalg.norm(labels - f_max, ord=2)/np.linalg.norm(labels, ord=2)\n",
    "    return f_error, f_max_error\n",
    "\n",
    "def find_num_right(x, data, labels):\n",
    "    f,f_max = find_results(data, x)\n",
    "    num_right = 0\n",
    "    looking = f_max - labels\n",
    "    for i in range(len(f)):\n",
    "#         print(looking[i])\n",
    "        if max(abs(looking [i])) == 0:\n",
    "            num_right += 1\n",
    "    return num_right\n",
    "\n",
    "def count_num_zero(x):\n",
    "    #counts the number of elements that have zero for all 10\n",
    "    num_zero= 0\n",
    "    for i in range(len(x)):\n",
    "        if(max(x[i]))==0:\n",
    "            num_zero += 1\n",
    "    return num_zero"
   ]
  },
  {
   "cell_type": "code",
   "execution_count": 4,
   "metadata": {},
   "outputs": [
    {
     "name": "stdout",
     "output_type": "stream",
     "text": [
      "47040000\n",
      "47040000\n",
      "47040000\n",
      "(60000, 784)\n"
     ]
    }
   ],
   "source": [
    "\n",
    "f = gzip.open('train-images-idx3-ubyte.gz','r')\n",
    "\n",
    "image_size = 28\n",
    "num_images = 60000 \n",
    "\n",
    "\n",
    "print(image_size * image_size * num_images)\n",
    "f.read(16)\n",
    "buf = f.read(image_size * image_size * num_images)\n",
    "data = np.frombuffer(buf, dtype=np.uint8).astype(np.float32)\n",
    "print(len(data))\n",
    "print(len(buf))\n",
    "data = data.reshape(num_images, image_size* image_size)\n",
    "\n",
    "print(data.shape)\n",
    "\n",
    "\n",
    "# image = np.asarray(data[3]).squeeze()\n",
    "# plt.imshow(image)\n",
    "# plt.show()"
   ]
  },
  {
   "cell_type": "code",
   "execution_count": 5,
   "metadata": {},
   "outputs": [
    {
     "name": "stdout",
     "output_type": "stream",
     "text": [
      "(60000,)\n",
      "[[0. 0. 0. ... 0. 0. 0.]\n",
      " [0. 0. 0. ... 0. 0. 1.]\n",
      " [0. 0. 0. ... 0. 0. 0.]\n",
      " ...\n",
      " [0. 0. 0. ... 0. 0. 0.]\n",
      " [0. 0. 0. ... 0. 0. 0.]\n",
      " [0. 0. 0. ... 1. 0. 0.]]\n"
     ]
    }
   ],
   "source": [
    "f = gzip.open('train-labels-idx1-ubyte.gz','r')\n",
    "f.read(8)\n",
    "buf = f.read(image_size * image_size * num_images)\n",
    "labels_num = np.frombuffer(buf, dtype=np.uint8).astype(np.float32)\n",
    "\n",
    "# print(labels_num[3:10])\n",
    "print(labels_num.shape)\n",
    "\n",
    "#set_up b vector right\n",
    "labels = np.zeros([num_images, 10])\n",
    "# print(labels[1][1])\n",
    "for i in range(num_images):\n",
    "    if labels_num[i] == 0:\n",
    "        labels[i,9] = 1\n",
    "    else:\n",
    "        index = int(labels_num[i] - 1)\n",
    "        labels[i][index] = 1\n",
    "print(labels)\n"
   ]
  },
  {
   "cell_type": "code",
   "execution_count": 6,
   "metadata": {},
   "outputs": [
    {
     "name": "stdout",
     "output_type": "stream",
     "text": [
      "(10000, 784)\n",
      "(10000, 10)\n"
     ]
    }
   ],
   "source": [
    "#get test data\n",
    "f = gzip.open('t10k-images-idx3-ubyte.gz','r')\n",
    "\n",
    "# image_size = 28\n",
    "num_images_test = 10000 \n",
    "f.read(16)\n",
    "buf = f.read(image_size * image_size * num_images_test)\n",
    "test_data = np.frombuffer(buf, dtype=np.uint8).astype(np.float32)\n",
    "test_data = test_data.reshape(num_images_test, image_size* image_size)\n",
    "\n",
    "print(test_data.shape)\n",
    "\n",
    "f = gzip.open('t10k-labels-idx1-ubyte.gz','r')\n",
    "f.read(8)\n",
    "buf = f.read(image_size * image_size * num_images_test)\n",
    "labels_num = np.frombuffer(buf, dtype=np.uint8).astype(np.float32)\n",
    "\n",
    "#set_up b vector right\n",
    "test_labels = np.zeros([num_images_test, 10])\n",
    "for i in range(num_images_test):\n",
    "    if labels_num[i] == 0:\n",
    "        test_labels[i,9] = 1\n",
    "    else:\n",
    "        index = int(labels_num[i] - 1)\n",
    "        test_labels[i][index] = 1\n",
    "print(test_labels.shape)"
   ]
  },
  {
   "cell_type": "code",
   "execution_count": 7,
   "metadata": {},
   "outputs": [
    {
     "name": "stderr",
     "output_type": "stream",
     "text": [
      "C:\\Users\\16kat\\Anaconda3\\lib\\site-packages\\ipykernel_launcher.py:1: FutureWarning: `rcond` parameter will change to the default of machine precision times ``max(M, N)`` where M and N are the input matrix dimensions.\n",
      "To use the future default and silence this warning we advise to pass `rcond=None`, to keep using the old, explicitly pass `rcond=-1`.\n",
      "  \"\"\"Entry point for launching an IPython kernel.\n"
     ]
    },
    {
     "name": "stdout",
     "output_type": "stream",
     "text": [
      "0.85195\n",
      "0.8532\n",
      "14\n"
     ]
    }
   ],
   "source": [
    "tup  = np.linalg.lstsq(data, labels)\n",
    "x1 = tup[0]\n",
    "f1, f1_max = find_results(data, x1)\n",
    "right1 = find_num_right(x1, data, labels)\n",
    "right_test1 = find_num_right(x1, test_data, test_labels)\n",
    "zero1 = count_num_zero(x1)\n",
    "print(right1/60000)\n",
    "print(right_test1/10000)\n",
    "print(zero1)"
   ]
  },
  {
   "cell_type": "code",
   "execution_count": 8,
   "metadata": {},
   "outputs": [
    {
     "name": "stdout",
     "output_type": "stream",
     "text": [
      "(784, 10)\n"
     ]
    }
   ],
   "source": [
    "print(np.shape(x1))"
   ]
  },
  {
   "cell_type": "code",
   "execution_count": 9,
   "metadata": {},
   "outputs": [
    {
     "name": "stdout",
     "output_type": "stream",
     "text": [
      "0.8519333333333333\n",
      "0.8534\n",
      "14\n"
     ]
    }
   ],
   "source": [
    "x2 = np.matmul(np.linalg.pinv(data), labels)\n",
    "right2 = find_num_right(x2, data, labels)\n",
    "right_test2 = find_num_right(x2, test_data, test_labels)\n",
    "zero2 = count_num_zero(x2)\n",
    "print(right2/60000)\n",
    "print(right_test2/10000)\n",
    "print(zero2)"
   ]
  },
  {
   "cell_type": "code",
   "execution_count": 10,
   "metadata": {},
   "outputs": [],
   "source": [
    "def predict_lasso(alpha, data, labels, test  = False):\n",
    "    print(alpha)\n",
    "    clf = linear_model.Lasso(alpha=alpha)\n",
    "    clf.fit(data, labels)\n",
    "    x = clf.coef_\n",
    "    x = np.transpose(x)\n",
    "#     f, f_max = find_results(data, x)\n",
    "#     error, error_max = find_error(data, labels, x)\n",
    "    num_zero = count_num_zero(x)\n",
    "    num_right = find_num_right(x, data, labels)\n",
    "    if test:\n",
    "            num_right_test = find_num_right(x, test_data, test_labels)\n",
    "            return num_zero, num_right, num_right_test, x\n",
    "    \n",
    "    return num_zero, num_right, x\n",
    "\n",
    "# error, error_max, num_zero = predict_lasso(0.1, data, labels)\n",
    "\n",
    "def many_lasso(num, data, labels, lower = 0.1, upper = 1, plot=True):\n",
    "    alpha_list = []\n",
    "    right_list = []\n",
    "    num_zero_list = []\n",
    "    for alpha in np.linspace(lower, upper, num):\n",
    "        print(alpha)\n",
    "        num_zero, num_right = predict_lasso(alpha, data, labels)\n",
    "#         error_list.append(error)\n",
    "#         error_max_list.append(error_max)\n",
    "        right_list.append(num_right)\n",
    "        num_zero_list.append(num_zero)\n",
    "        alpha_list.append(alpha)\n",
    "        \n",
    "    if plot:\n",
    "        plt.plot(num_zero_list, right_list, 'ob')\n",
    "#         plt.plot(num_zero_list, error_list, 'or')\n",
    "\n",
    "    return alpha_list, right_list, num_zero_list\n",
    "\n",
    "def many_lasso_test(num, data, labels, lower = 0.1, upper = 1, plot=True):\n",
    "    alpha_list = []\n",
    "    right_list = []\n",
    "    num_zero_list = []\n",
    "    right_test_list = []\n",
    "    x_list = []\n",
    "    for alpha in np.linspace(lower, upper, num):\n",
    "        print(alpha)\n",
    "        num_zero, num_right, num_right_test, x = predict_lasso(alpha, data, labels, test = True)\n",
    "#         error_list.append(error)\n",
    "#         error_max_list.append(error_max)\n",
    "        right_list.append(num_right)\n",
    "        num_zero_list.append(num_zero)\n",
    "        alpha_list.append(alpha)\n",
    "        right_test_list.append(num_right_test)\n",
    "        x_list.append(x)\n",
    "        \n",
    "    try:\n",
    "        if plot:\n",
    "            plt.plot(num_zero_list, right_list, 'ob')\n",
    "            plt.plot(num_zero_list, right_test_list, 'or')\n",
    "    except:\n",
    "        print(\"Problem plotting\")\n",
    "\n",
    "    return alpha_list, right_list, num_zero_list, right_test_list, x_list\n"
   ]
  },
  {
   "cell_type": "code",
   "execution_count": 11,
   "metadata": {},
   "outputs": [
    {
     "name": "stdout",
     "output_type": "stream",
     "text": [
      "0.1\n",
      "0.8051333333333334\n",
      "0.8087\n",
      "316\n"
     ]
    }
   ],
   "source": [
    "zero3, right3, right_test3, x3 = predict_lasso(0.1, data, labels, test = True)\n",
    "print(right3/60000)\n",
    "print(right_test3/10000)\n",
    "print(zero3)"
   ]
  },
  {
   "cell_type": "code",
   "execution_count": 12,
   "metadata": {},
   "outputs": [
    {
     "name": "stdout",
     "output_type": "stream",
     "text": [
      "1.0\n",
      "0.7714666666666666\n",
      "0.777\n",
      "507\n"
     ]
    }
   ],
   "source": [
    "zero4, right4, right_test4, x4 = predict_lasso(1.0, data, labels, test = True)\n",
    "print(right4/60000)\n",
    "print(right_test4/10000)\n",
    "print(zero4)"
   ]
  },
  {
   "cell_type": "code",
   "execution_count": 13,
   "metadata": {},
   "outputs": [
    {
     "name": "stderr",
     "output_type": "stream",
     "text": [
      "C:\\Users\\16kat\\Anaconda3\\lib\\site-packages\\sklearn\\linear_model\\ridge.py:147: LinAlgWarning: Ill-conditioned matrix (rcond=2.03801e-11): result may not be accurate.\n",
      "  overwrite_a=True).T\n"
     ]
    },
    {
     "name": "stdout",
     "output_type": "stream",
     "text": [
      "0.81355\n",
      "0.8115\n",
      "67\n"
     ]
    }
   ],
   "source": [
    "#robust and ridge too\n",
    "ridge = linear_model.Ridge(alpha=1.0).fit(data,labels)\n",
    "x6 = ridge.coef_\n",
    "x6 = x6.transpose()\n",
    "zero6 = count_num_zero(x6)\n",
    "right6 = find_num_right(x6, data, labels)\n",
    "right_test6 = find_num_right(x6, test_data, test_labels)\n",
    "print(right6/60000)\n",
    "print(right_test6/10000)\n",
    "print(zero6)"
   ]
  },
  {
   "cell_type": "code",
   "execution_count": 14,
   "metadata": {},
   "outputs": [
    {
     "name": "stdout",
     "output_type": "stream",
     "text": [
      "[[0. 0. 0. ... 0. 0. 0.]\n",
      " [0. 0. 0. ... 0. 0. 0.]\n",
      " [0. 0. 0. ... 0. 0. 0.]\n",
      " ...\n",
      " [0. 0. 0. ... 0. 0. 0.]\n",
      " [0. 0. 0. ... 0. 0. 0.]\n",
      " [0. 0. 0. ... 0. 0. 0.]]\n",
      "0.8051666666666667\n",
      "0.8086\n",
      "316\n"
     ]
    }
   ],
   "source": [
    "regr3 = linear_model.ElasticNet(alpha=1.0, copy_X=True, l1_ratio=0.1, max_iter=10**5,random_state=0)\n",
    "regr3.fit(data, labels)  \n",
    "x7 = regr3.coef_\n",
    "x7 =np. transpose(x7)\n",
    "print(x7)\n",
    "zero7 = count_num_zero(x7)\n",
    "right7 = find_num_right(x7, data, labels)\n",
    "right_test7 = find_num_right(x7, test_data, test_labels)\n",
    "print(right7/60000)\n",
    "print(right_test7/10000)\n",
    "print(zero7)"
   ]
  },
  {
   "cell_type": "code",
   "execution_count": 15,
   "metadata": {},
   "outputs": [
    {
     "data": {
      "image/png": "[encoded data removed]",
      "text/plain": [
       "<Figure size 432x288 with 1 Axes>"
      ]
     },
     "metadata": {
      "needs_background": "light"
     },
     "output_type": "display_data"
    }
   ],
   "source": [
    "x = np.array([0,1,2,3,4, 5])\n",
    "y = np.array([right1, right2, right3, right4, right6, right7])\n",
    "z = np.array([right_test1, right_test2, right_test3, right_test4, right_test6, right_test7])\n",
    "y = np.divide(y, num_images)\n",
    "z = np.divide(z, 10000)\n",
    "my_xticks = ['Least Squares', 'Pinv', \"Lasso\\n a = 0.1\", \"Lasso\\n a = 1.0\", \"Ridge\", \"ElasticNet\\n a = 1.0\"]\n",
    "plt.xticks(x, my_xticks)\n",
    "plt.plot(x, y, 'o', label = \"Training\")\n",
    "plt.plot(x,z, 'o', label = \"Testing\")\n",
    "plt.ylabel(\"% predicted correctly\")\n",
    "plt.title(\"Predicting MNIST numbers with a variety of methods\")\n",
    "plt.legend()\n",
    "plt.show()"
   ]
  },
  {
   "cell_type": "code",
   "execution_count": 16,
   "metadata": {},
   "outputs": [
    {
     "data": {
      "image/png": "[encoded data removed]",
      "text/plain": [
       "<Figure size 432x288 with 1 Axes>"
      ]
     },
     "metadata": {
      "needs_background": "light"
     },
     "output_type": "display_data"
    }
   ],
   "source": [
    "x = np.array([zero1, zero2, zero3, zero4, zero6, zero7])\n",
    "y = np.array([right1, right2, right3, right4, right6, right7])\n",
    "z = np.array([right_test1, right_test2, right_test3, right_test4, right_test6, right_test7])\n",
    "y = np.divide(y, num_images)\n",
    "z = np.divide(z, 10000)\n",
    "my_xticks = ['Least Squares', 'Pinv', \"Lasso\\n a = 0.1\", \"Lasso\\n a = 1.0\", \"Ridge\", \"ElasticNet\\n a = 1.0\"]\n",
    "# plt.xticks(x, my_xticks)\n",
    "x = np.ones(len(x))*image_size**2 - x\n",
    "for i in range(len(x)):\n",
    "    plt.plot(x[i], y[i], 'o', label = my_xticks[i], alpha = 0.5)\n",
    "# plt.plot(x,z, 'o', label = \"Testing\")\n",
    "plt.ylabel(\"% predicted correctly\")\n",
    "plt.xlabel(\"Number of Nonzero Terms\")\n",
    "plt.title(\"Comparing number of terms and % correct of MNIST numbers in a variety of methods\")\n",
    "plt.legend()\n",
    "plt.show()\n",
    "# print(x)"
   ]
  },
  {
   "cell_type": "code",
   "execution_count": null,
   "metadata": {},
   "outputs": [],
   "source": []
  }
 ],
 "metadata": {
  "kernelspec": {
   "display_name": "Python 3",
   "language": "python",
   "name": "python3"
  },
  "language_info": {
   "codemirror_mode": {
    "name": "ipython",
    "version": 3
   },
   "file_extension": ".py",
   "mimetype": "text/x-python",
   "name": "python",
   "nbconvert_exporter": "python",
   "pygments_lexer": "ipython3",
   "version": "3.7.4"
  }
 },
 "nbformat": 4,
 "nbformat_minor": 2
}
